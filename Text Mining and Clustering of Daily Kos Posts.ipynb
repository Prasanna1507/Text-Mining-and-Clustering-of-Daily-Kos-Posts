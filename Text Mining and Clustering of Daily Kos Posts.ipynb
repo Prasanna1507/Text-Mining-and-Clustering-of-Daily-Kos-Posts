{
  "cells": [
    {
      "cell_type": "code",
      "execution_count": null,
      "id": "ce041bbd",
      "metadata": {
        "id": "ce041bbd"
      },
      "outputs": [],
      "source": [
        "import pandas as pd\n",
        "import numpy as np\n",
        "import matplotlib.pyplot as plt\n",
        "from scipy.spatial.distance import pdist\n",
        "from scipy.cluster.hierarchy import dendrogram, linkage"
      ]
    },
    {
      "cell_type": "code",
      "execution_count": null,
      "id": "f56788ff",
      "metadata": {
        "id": "f56788ff"
      },
      "outputs": [],
      "source": [
        "df = pd.read_csv('dailykos.csv')"
      ]
    },
    {
      "cell_type": "code",
      "execution_count": null,
      "id": "e75f38f8",
      "metadata": {
        "id": "e75f38f8",
        "outputId": "2619231c-9374-432b-af22-8dcfa437f69b"
      },
      "outputs": [
        {
          "data": {
            "text/html": [
              "<div>\n",
              "<style scoped>\n",
              "    .dataframe tbody tr th:only-of-type {\n",
              "        vertical-align: middle;\n",
              "    }\n",
              "\n",
              "    .dataframe tbody tr th {\n",
              "        vertical-align: top;\n",
              "    }\n",
              "\n",
              "    .dataframe thead th {\n",
              "        text-align: right;\n",
              "    }\n",
              "</style>\n",
              "<table border=\"1\" class=\"dataframe\">\n",
              "  <thead>\n",
              "    <tr style=\"text-align: right;\">\n",
              "      <th></th>\n",
              "      <th>abandon</th>\n",
              "      <th>abc</th>\n",
              "      <th>ability</th>\n",
              "      <th>abortion</th>\n",
              "      <th>absolute</th>\n",
              "      <th>abstain</th>\n",
              "      <th>abu</th>\n",
              "      <th>abuse</th>\n",
              "      <th>accept</th>\n",
              "      <th>access</th>\n",
              "      <th>...</th>\n",
              "      <th>yeah</th>\n",
              "      <th>year</th>\n",
              "      <th>yesterday</th>\n",
              "      <th>york</th>\n",
              "      <th>youll</th>\n",
              "      <th>young</th>\n",
              "      <th>youre</th>\n",
              "      <th>youve</th>\n",
              "      <th>zogby</th>\n",
              "      <th>zone</th>\n",
              "    </tr>\n",
              "  </thead>\n",
              "  <tbody>\n",
              "    <tr>\n",
              "      <th>0</th>\n",
              "      <td>0</td>\n",
              "      <td>0</td>\n",
              "      <td>0</td>\n",
              "      <td>0</td>\n",
              "      <td>0</td>\n",
              "      <td>0</td>\n",
              "      <td>0</td>\n",
              "      <td>0</td>\n",
              "      <td>0</td>\n",
              "      <td>0</td>\n",
              "      <td>...</td>\n",
              "      <td>0</td>\n",
              "      <td>0</td>\n",
              "      <td>0</td>\n",
              "      <td>0</td>\n",
              "      <td>0</td>\n",
              "      <td>0</td>\n",
              "      <td>0</td>\n",
              "      <td>0</td>\n",
              "      <td>0</td>\n",
              "      <td>1</td>\n",
              "    </tr>\n",
              "    <tr>\n",
              "      <th>1</th>\n",
              "      <td>0</td>\n",
              "      <td>0</td>\n",
              "      <td>0</td>\n",
              "      <td>0</td>\n",
              "      <td>0</td>\n",
              "      <td>0</td>\n",
              "      <td>0</td>\n",
              "      <td>0</td>\n",
              "      <td>0</td>\n",
              "      <td>0</td>\n",
              "      <td>...</td>\n",
              "      <td>0</td>\n",
              "      <td>0</td>\n",
              "      <td>0</td>\n",
              "      <td>0</td>\n",
              "      <td>0</td>\n",
              "      <td>0</td>\n",
              "      <td>0</td>\n",
              "      <td>0</td>\n",
              "      <td>0</td>\n",
              "      <td>0</td>\n",
              "    </tr>\n",
              "    <tr>\n",
              "      <th>2</th>\n",
              "      <td>0</td>\n",
              "      <td>0</td>\n",
              "      <td>0</td>\n",
              "      <td>0</td>\n",
              "      <td>0</td>\n",
              "      <td>1</td>\n",
              "      <td>0</td>\n",
              "      <td>0</td>\n",
              "      <td>0</td>\n",
              "      <td>0</td>\n",
              "      <td>...</td>\n",
              "      <td>0</td>\n",
              "      <td>0</td>\n",
              "      <td>0</td>\n",
              "      <td>0</td>\n",
              "      <td>0</td>\n",
              "      <td>0</td>\n",
              "      <td>0</td>\n",
              "      <td>0</td>\n",
              "      <td>0</td>\n",
              "      <td>0</td>\n",
              "    </tr>\n",
              "    <tr>\n",
              "      <th>3</th>\n",
              "      <td>0</td>\n",
              "      <td>0</td>\n",
              "      <td>0</td>\n",
              "      <td>0</td>\n",
              "      <td>0</td>\n",
              "      <td>0</td>\n",
              "      <td>0</td>\n",
              "      <td>0</td>\n",
              "      <td>0</td>\n",
              "      <td>0</td>\n",
              "      <td>...</td>\n",
              "      <td>0</td>\n",
              "      <td>0</td>\n",
              "      <td>2</td>\n",
              "      <td>0</td>\n",
              "      <td>0</td>\n",
              "      <td>1</td>\n",
              "      <td>0</td>\n",
              "      <td>0</td>\n",
              "      <td>0</td>\n",
              "      <td>0</td>\n",
              "    </tr>\n",
              "    <tr>\n",
              "      <th>4</th>\n",
              "      <td>0</td>\n",
              "      <td>0</td>\n",
              "      <td>0</td>\n",
              "      <td>0</td>\n",
              "      <td>0</td>\n",
              "      <td>0</td>\n",
              "      <td>0</td>\n",
              "      <td>0</td>\n",
              "      <td>0</td>\n",
              "      <td>0</td>\n",
              "      <td>...</td>\n",
              "      <td>0</td>\n",
              "      <td>1</td>\n",
              "      <td>1</td>\n",
              "      <td>0</td>\n",
              "      <td>0</td>\n",
              "      <td>1</td>\n",
              "      <td>0</td>\n",
              "      <td>0</td>\n",
              "      <td>0</td>\n",
              "      <td>0</td>\n",
              "    </tr>\n",
              "    <tr>\n",
              "      <th>...</th>\n",
              "      <td>...</td>\n",
              "      <td>...</td>\n",
              "      <td>...</td>\n",
              "      <td>...</td>\n",
              "      <td>...</td>\n",
              "      <td>...</td>\n",
              "      <td>...</td>\n",
              "      <td>...</td>\n",
              "      <td>...</td>\n",
              "      <td>...</td>\n",
              "      <td>...</td>\n",
              "      <td>...</td>\n",
              "      <td>...</td>\n",
              "      <td>...</td>\n",
              "      <td>...</td>\n",
              "      <td>...</td>\n",
              "      <td>...</td>\n",
              "      <td>...</td>\n",
              "      <td>...</td>\n",
              "      <td>...</td>\n",
              "      <td>...</td>\n",
              "    </tr>\n",
              "    <tr>\n",
              "      <th>3425</th>\n",
              "      <td>0</td>\n",
              "      <td>0</td>\n",
              "      <td>0</td>\n",
              "      <td>0</td>\n",
              "      <td>0</td>\n",
              "      <td>0</td>\n",
              "      <td>0</td>\n",
              "      <td>0</td>\n",
              "      <td>0</td>\n",
              "      <td>0</td>\n",
              "      <td>...</td>\n",
              "      <td>0</td>\n",
              "      <td>0</td>\n",
              "      <td>0</td>\n",
              "      <td>0</td>\n",
              "      <td>0</td>\n",
              "      <td>0</td>\n",
              "      <td>0</td>\n",
              "      <td>0</td>\n",
              "      <td>0</td>\n",
              "      <td>0</td>\n",
              "    </tr>\n",
              "    <tr>\n",
              "      <th>3426</th>\n",
              "      <td>0</td>\n",
              "      <td>0</td>\n",
              "      <td>0</td>\n",
              "      <td>0</td>\n",
              "      <td>0</td>\n",
              "      <td>0</td>\n",
              "      <td>0</td>\n",
              "      <td>0</td>\n",
              "      <td>0</td>\n",
              "      <td>0</td>\n",
              "      <td>...</td>\n",
              "      <td>0</td>\n",
              "      <td>0</td>\n",
              "      <td>0</td>\n",
              "      <td>0</td>\n",
              "      <td>0</td>\n",
              "      <td>0</td>\n",
              "      <td>0</td>\n",
              "      <td>0</td>\n",
              "      <td>0</td>\n",
              "      <td>0</td>\n",
              "    </tr>\n",
              "    <tr>\n",
              "      <th>3427</th>\n",
              "      <td>0</td>\n",
              "      <td>0</td>\n",
              "      <td>0</td>\n",
              "      <td>0</td>\n",
              "      <td>0</td>\n",
              "      <td>0</td>\n",
              "      <td>0</td>\n",
              "      <td>0</td>\n",
              "      <td>0</td>\n",
              "      <td>0</td>\n",
              "      <td>...</td>\n",
              "      <td>0</td>\n",
              "      <td>0</td>\n",
              "      <td>0</td>\n",
              "      <td>1</td>\n",
              "      <td>0</td>\n",
              "      <td>0</td>\n",
              "      <td>0</td>\n",
              "      <td>0</td>\n",
              "      <td>0</td>\n",
              "      <td>0</td>\n",
              "    </tr>\n",
              "    <tr>\n",
              "      <th>3428</th>\n",
              "      <td>0</td>\n",
              "      <td>0</td>\n",
              "      <td>0</td>\n",
              "      <td>0</td>\n",
              "      <td>0</td>\n",
              "      <td>0</td>\n",
              "      <td>0</td>\n",
              "      <td>0</td>\n",
              "      <td>0</td>\n",
              "      <td>0</td>\n",
              "      <td>...</td>\n",
              "      <td>0</td>\n",
              "      <td>0</td>\n",
              "      <td>0</td>\n",
              "      <td>0</td>\n",
              "      <td>0</td>\n",
              "      <td>0</td>\n",
              "      <td>0</td>\n",
              "      <td>0</td>\n",
              "      <td>0</td>\n",
              "      <td>0</td>\n",
              "    </tr>\n",
              "    <tr>\n",
              "      <th>3429</th>\n",
              "      <td>0</td>\n",
              "      <td>0</td>\n",
              "      <td>0</td>\n",
              "      <td>0</td>\n",
              "      <td>0</td>\n",
              "      <td>0</td>\n",
              "      <td>0</td>\n",
              "      <td>0</td>\n",
              "      <td>0</td>\n",
              "      <td>0</td>\n",
              "      <td>...</td>\n",
              "      <td>0</td>\n",
              "      <td>0</td>\n",
              "      <td>0</td>\n",
              "      <td>0</td>\n",
              "      <td>0</td>\n",
              "      <td>0</td>\n",
              "      <td>0</td>\n",
              "      <td>0</td>\n",
              "      <td>0</td>\n",
              "      <td>0</td>\n",
              "    </tr>\n",
              "  </tbody>\n",
              "</table>\n",
              "<p>3430 rows × 1545 columns</p>\n",
              "</div>"
            ],
            "text/plain": [
              "      abandon  abc  ability  abortion  absolute  abstain  abu  abuse  accept  \\\n",
              "0           0    0        0         0         0        0    0      0       0   \n",
              "1           0    0        0         0         0        0    0      0       0   \n",
              "2           0    0        0         0         0        1    0      0       0   \n",
              "3           0    0        0         0         0        0    0      0       0   \n",
              "4           0    0        0         0         0        0    0      0       0   \n",
              "...       ...  ...      ...       ...       ...      ...  ...    ...     ...   \n",
              "3425        0    0        0         0         0        0    0      0       0   \n",
              "3426        0    0        0         0         0        0    0      0       0   \n",
              "3427        0    0        0         0         0        0    0      0       0   \n",
              "3428        0    0        0         0         0        0    0      0       0   \n",
              "3429        0    0        0         0         0        0    0      0       0   \n",
              "\n",
              "      access  ...  yeah  year  yesterday  york  youll  young  youre  youve  \\\n",
              "0          0  ...     0     0          0     0      0      0      0      0   \n",
              "1          0  ...     0     0          0     0      0      0      0      0   \n",
              "2          0  ...     0     0          0     0      0      0      0      0   \n",
              "3          0  ...     0     0          2     0      0      1      0      0   \n",
              "4          0  ...     0     1          1     0      0      1      0      0   \n",
              "...      ...  ...   ...   ...        ...   ...    ...    ...    ...    ...   \n",
              "3425       0  ...     0     0          0     0      0      0      0      0   \n",
              "3426       0  ...     0     0          0     0      0      0      0      0   \n",
              "3427       0  ...     0     0          0     1      0      0      0      0   \n",
              "3428       0  ...     0     0          0     0      0      0      0      0   \n",
              "3429       0  ...     0     0          0     0      0      0      0      0   \n",
              "\n",
              "      zogby  zone  \n",
              "0         0     1  \n",
              "1         0     0  \n",
              "2         0     0  \n",
              "3         0     0  \n",
              "4         0     0  \n",
              "...     ...   ...  \n",
              "3425      0     0  \n",
              "3426      0     0  \n",
              "3427      0     0  \n",
              "3428      0     0  \n",
              "3429      0     0  \n",
              "\n",
              "[3430 rows x 1545 columns]"
            ]
          },
          "execution_count": 3,
          "metadata": {},
          "output_type": "execute_result"
        }
      ],
      "source": [
        "df"
      ]
    },
    {
      "cell_type": "code",
      "execution_count": null,
      "id": "5ee1b4f7",
      "metadata": {
        "id": "5ee1b4f7",
        "outputId": "1ba5d2c2-88cf-42fb-99dd-b22ae33d8067"
      },
      "outputs": [
        {
          "data": {
            "text/plain": [
              "(3430, 1545)"
            ]
          },
          "execution_count": 4,
          "metadata": {},
          "output_type": "execute_result"
        }
      ],
      "source": [
        "# Each varible has been appeared on atleast 50 different articles\n",
        "df.shape"
      ]
    },
    {
      "cell_type": "code",
      "execution_count": null,
      "id": "5860d5f2",
      "metadata": {
        "id": "5860d5f2"
      },
      "outputs": [],
      "source": [
        "# Compute Euclidean distances\n",
        "distances = pdist(df, metric='euclidean')\n",
        "dist = linkage(distances, method='ward')"
      ]
    },
    {
      "cell_type": "code",
      "execution_count": null,
      "id": "a0ebf33b",
      "metadata": {
        "id": "a0ebf33b",
        "outputId": "c209361a-aaa5-4787-866a-dd54808463dd"
      },
      "outputs": [
        {
          "data": {
            "image/png": "[encoded data removed]",
            "text/plain": [
              "<Figure size 1500x1000 with 1 Axes>"
            ]
          },
          "metadata": {},
          "output_type": "display_data"
        }
      ],
      "source": [
        "# Create a dendrogram using calculated distances\n",
        "plt.figure(figsize=(15, 10))\n",
        "dendrogram(dist, labels=df.index, orientation='top')\n",
        "plt.title('Dendrogram')\n",
        "plt.xlabel('Observations')\n",
        "plt.ylabel('Distance')\n",
        "plt.show()"
      ]
    },
    {
      "cell_type": "raw",
      "id": "92e31bb6",
      "metadata": {
        "id": "92e31bb6"
      },
      "source": [
        "A dendrogram represents the hierarchical structure of clusters in a dataset. Vertical lines in the dendogram represents distance at which points are merged. It takes time to calculate the distances because there are 3430 data points and calculating pairwise distances between them takes time( high dimensionality)\n"
      ]
    },
    {
      "cell_type": "markdown",
      "id": "3cba561d",
      "metadata": {
        "id": "3cba561d"
      },
      "source": [
        "### **Q) In this problem, we are trying to cluster news articles or blog posts into groups.This can be used to show readers categories to choose from when trying to decide what to read.Just thinking about this application, what are good choices for the number of clusters? Explain your thinking.**"
      ]
    },
    {
      "cell_type": "markdown",
      "id": "ef36aecf",
      "metadata": {
        "id": "ef36aecf"
      },
      "source": [
        "The choices for the number of clusters depends on various factors such as nature of data. Here in this case, new articles or\n",
        "blog posts can be categorized into different groups based on the topic it is covering such as sports, entertainment, politics etc.,\n",
        "After there is a domain of values for the groups, different techniques like elbow method, silhoutte score can be used to\n",
        "decide on the optimal number of clusters\n"
      ]
    },
    {
      "cell_type": "code",
      "execution_count": null,
      "id": "1c8a88b3",
      "metadata": {
        "id": "1c8a88b3"
      },
      "outputs": [],
      "source": [
        "from scipy.cluster.hierarchy import fcluster\n",
        "\n",
        "# Perform hierarchical clustering with 7 clusters\n",
        "hc_clusters = fcluster(dist, 7, criterion='maxclust')"
      ]
    },
    {
      "cell_type": "code",
      "execution_count": null,
      "id": "8ae54787",
      "metadata": {
        "id": "8ae54787",
        "outputId": "ccd714ae-d2bc-46ad-f51b-1b2bd917d32d"
      },
      "outputs": [
        {
          "data": {
            "text/plain": [
              "3430"
            ]
          },
          "execution_count": 8,
          "metadata": {},
          "output_type": "execute_result"
        }
      ],
      "source": [
        "len(hc_clusters)"
      ]
    },
    {
      "cell_type": "code",
      "execution_count": null,
      "id": "365ee89a",
      "metadata": {
        "id": "365ee89a",
        "outputId": "eb2f5de8-8ead-48e2-94a5-d087a5434d3f"
      },
      "outputs": [
        {
          "name": "stdout",
          "output_type": "stream",
          "text": [
            "[1 2 3 4 5 6 7]\n"
          ]
        }
      ],
      "source": [
        "print(np.unique(hc_clusters))"
      ]
    },
    {
      "cell_type": "code",
      "execution_count": null,
      "id": "de62b79e",
      "metadata": {
        "id": "de62b79e",
        "outputId": "06325965-37c1-4595-b63b-6b06752ff52b"
      },
      "outputs": [
        {
          "data": {
            "text/html": [
              "<div>\n",
              "<style scoped>\n",
              "    .dataframe tbody tr th:only-of-type {\n",
              "        vertical-align: middle;\n",
              "    }\n",
              "\n",
              "    .dataframe tbody tr th {\n",
              "        vertical-align: top;\n",
              "    }\n",
              "\n",
              "    .dataframe thead th {\n",
              "        text-align: right;\n",
              "    }\n",
              "</style>\n",
              "<table border=\"1\" class=\"dataframe\">\n",
              "  <thead>\n",
              "    <tr style=\"text-align: right;\">\n",
              "      <th></th>\n",
              "      <th>Cluster</th>\n",
              "      <th>abandon</th>\n",
              "      <th>abc</th>\n",
              "      <th>ability</th>\n",
              "      <th>abortion</th>\n",
              "      <th>absolute</th>\n",
              "      <th>abstain</th>\n",
              "      <th>abu</th>\n",
              "      <th>abuse</th>\n",
              "      <th>accept</th>\n",
              "      <th>...</th>\n",
              "      <th>yeah</th>\n",
              "      <th>year</th>\n",
              "      <th>yesterday</th>\n",
              "      <th>york</th>\n",
              "      <th>youll</th>\n",
              "      <th>young</th>\n",
              "      <th>youre</th>\n",
              "      <th>youve</th>\n",
              "      <th>zogby</th>\n",
              "      <th>zone</th>\n",
              "    </tr>\n",
              "  </thead>\n",
              "  <tbody>\n",
              "    <tr>\n",
              "      <th>0</th>\n",
              "      <td>2</td>\n",
              "      <td>0</td>\n",
              "      <td>0</td>\n",
              "      <td>0</td>\n",
              "      <td>0</td>\n",
              "      <td>0</td>\n",
              "      <td>0</td>\n",
              "      <td>0</td>\n",
              "      <td>0</td>\n",
              "      <td>0</td>\n",
              "      <td>...</td>\n",
              "      <td>0</td>\n",
              "      <td>0</td>\n",
              "      <td>0</td>\n",
              "      <td>0</td>\n",
              "      <td>0</td>\n",
              "      <td>0</td>\n",
              "      <td>0</td>\n",
              "      <td>0</td>\n",
              "      <td>0</td>\n",
              "      <td>1</td>\n",
              "    </tr>\n",
              "    <tr>\n",
              "      <th>1</th>\n",
              "      <td>7</td>\n",
              "      <td>0</td>\n",
              "      <td>0</td>\n",
              "      <td>0</td>\n",
              "      <td>0</td>\n",
              "      <td>0</td>\n",
              "      <td>0</td>\n",
              "      <td>0</td>\n",
              "      <td>0</td>\n",
              "      <td>0</td>\n",
              "      <td>...</td>\n",
              "      <td>0</td>\n",
              "      <td>0</td>\n",
              "      <td>0</td>\n",
              "      <td>0</td>\n",
              "      <td>0</td>\n",
              "      <td>0</td>\n",
              "      <td>0</td>\n",
              "      <td>0</td>\n",
              "      <td>0</td>\n",
              "      <td>0</td>\n",
              "    </tr>\n",
              "    <tr>\n",
              "      <th>2</th>\n",
              "      <td>1</td>\n",
              "      <td>0</td>\n",
              "      <td>0</td>\n",
              "      <td>0</td>\n",
              "      <td>0</td>\n",
              "      <td>0</td>\n",
              "      <td>1</td>\n",
              "      <td>0</td>\n",
              "      <td>0</td>\n",
              "      <td>0</td>\n",
              "      <td>...</td>\n",
              "      <td>0</td>\n",
              "      <td>0</td>\n",
              "      <td>0</td>\n",
              "      <td>0</td>\n",
              "      <td>0</td>\n",
              "      <td>0</td>\n",
              "      <td>0</td>\n",
              "      <td>0</td>\n",
              "      <td>0</td>\n",
              "      <td>0</td>\n",
              "    </tr>\n",
              "    <tr>\n",
              "      <th>3</th>\n",
              "      <td>3</td>\n",
              "      <td>0</td>\n",
              "      <td>0</td>\n",
              "      <td>0</td>\n",
              "      <td>0</td>\n",
              "      <td>0</td>\n",
              "      <td>0</td>\n",
              "      <td>0</td>\n",
              "      <td>0</td>\n",
              "      <td>0</td>\n",
              "      <td>...</td>\n",
              "      <td>0</td>\n",
              "      <td>0</td>\n",
              "      <td>2</td>\n",
              "      <td>0</td>\n",
              "      <td>0</td>\n",
              "      <td>1</td>\n",
              "      <td>0</td>\n",
              "      <td>0</td>\n",
              "      <td>0</td>\n",
              "      <td>0</td>\n",
              "    </tr>\n",
              "    <tr>\n",
              "      <th>4</th>\n",
              "      <td>7</td>\n",
              "      <td>0</td>\n",
              "      <td>0</td>\n",
              "      <td>0</td>\n",
              "      <td>0</td>\n",
              "      <td>0</td>\n",
              "      <td>0</td>\n",
              "      <td>0</td>\n",
              "      <td>0</td>\n",
              "      <td>0</td>\n",
              "      <td>...</td>\n",
              "      <td>0</td>\n",
              "      <td>1</td>\n",
              "      <td>1</td>\n",
              "      <td>0</td>\n",
              "      <td>0</td>\n",
              "      <td>1</td>\n",
              "      <td>0</td>\n",
              "      <td>0</td>\n",
              "      <td>0</td>\n",
              "      <td>0</td>\n",
              "    </tr>\n",
              "    <tr>\n",
              "      <th>...</th>\n",
              "      <td>...</td>\n",
              "      <td>...</td>\n",
              "      <td>...</td>\n",
              "      <td>...</td>\n",
              "      <td>...</td>\n",
              "      <td>...</td>\n",
              "      <td>...</td>\n",
              "      <td>...</td>\n",
              "      <td>...</td>\n",
              "      <td>...</td>\n",
              "      <td>...</td>\n",
              "      <td>...</td>\n",
              "      <td>...</td>\n",
              "      <td>...</td>\n",
              "      <td>...</td>\n",
              "      <td>...</td>\n",
              "      <td>...</td>\n",
              "      <td>...</td>\n",
              "      <td>...</td>\n",
              "      <td>...</td>\n",
              "      <td>...</td>\n",
              "    </tr>\n",
              "    <tr>\n",
              "      <th>3425</th>\n",
              "      <td>3</td>\n",
              "      <td>0</td>\n",
              "      <td>0</td>\n",
              "      <td>0</td>\n",
              "      <td>0</td>\n",
              "      <td>0</td>\n",
              "      <td>0</td>\n",
              "      <td>0</td>\n",
              "      <td>0</td>\n",
              "      <td>0</td>\n",
              "      <td>...</td>\n",
              "      <td>0</td>\n",
              "      <td>0</td>\n",
              "      <td>0</td>\n",
              "      <td>0</td>\n",
              "      <td>0</td>\n",
              "      <td>0</td>\n",
              "      <td>0</td>\n",
              "      <td>0</td>\n",
              "      <td>0</td>\n",
              "      <td>0</td>\n",
              "    </tr>\n",
              "    <tr>\n",
              "      <th>3426</th>\n",
              "      <td>2</td>\n",
              "      <td>0</td>\n",
              "      <td>0</td>\n",
              "      <td>0</td>\n",
              "      <td>0</td>\n",
              "      <td>0</td>\n",
              "      <td>0</td>\n",
              "      <td>0</td>\n",
              "      <td>0</td>\n",
              "      <td>0</td>\n",
              "      <td>...</td>\n",
              "      <td>0</td>\n",
              "      <td>0</td>\n",
              "      <td>0</td>\n",
              "      <td>0</td>\n",
              "      <td>0</td>\n",
              "      <td>0</td>\n",
              "      <td>0</td>\n",
              "      <td>0</td>\n",
              "      <td>0</td>\n",
              "      <td>0</td>\n",
              "    </tr>\n",
              "    <tr>\n",
              "      <th>3427</th>\n",
              "      <td>2</td>\n",
              "      <td>0</td>\n",
              "      <td>0</td>\n",
              "      <td>0</td>\n",
              "      <td>0</td>\n",
              "      <td>0</td>\n",
              "      <td>0</td>\n",
              "      <td>0</td>\n",
              "      <td>0</td>\n",
              "      <td>0</td>\n",
              "      <td>...</td>\n",
              "      <td>0</td>\n",
              "      <td>0</td>\n",
              "      <td>0</td>\n",
              "      <td>1</td>\n",
              "      <td>0</td>\n",
              "      <td>0</td>\n",
              "      <td>0</td>\n",
              "      <td>0</td>\n",
              "      <td>0</td>\n",
              "      <td>0</td>\n",
              "    </tr>\n",
              "    <tr>\n",
              "      <th>3428</th>\n",
              "      <td>2</td>\n",
              "      <td>0</td>\n",
              "      <td>0</td>\n",
              "      <td>0</td>\n",
              "      <td>0</td>\n",
              "      <td>0</td>\n",
              "      <td>0</td>\n",
              "      <td>0</td>\n",
              "      <td>0</td>\n",
              "      <td>0</td>\n",
              "      <td>...</td>\n",
              "      <td>0</td>\n",
              "      <td>0</td>\n",
              "      <td>0</td>\n",
              "      <td>0</td>\n",
              "      <td>0</td>\n",
              "      <td>0</td>\n",
              "      <td>0</td>\n",
              "      <td>0</td>\n",
              "      <td>0</td>\n",
              "      <td>0</td>\n",
              "    </tr>\n",
              "    <tr>\n",
              "      <th>3429</th>\n",
              "      <td>2</td>\n",
              "      <td>0</td>\n",
              "      <td>0</td>\n",
              "      <td>0</td>\n",
              "      <td>0</td>\n",
              "      <td>0</td>\n",
              "      <td>0</td>\n",
              "      <td>0</td>\n",
              "      <td>0</td>\n",
              "      <td>0</td>\n",
              "      <td>...</td>\n",
              "      <td>0</td>\n",
              "      <td>0</td>\n",
              "      <td>0</td>\n",
              "      <td>0</td>\n",
              "      <td>0</td>\n",
              "      <td>0</td>\n",
              "      <td>0</td>\n",
              "      <td>0</td>\n",
              "      <td>0</td>\n",
              "      <td>0</td>\n",
              "    </tr>\n",
              "  </tbody>\n",
              "</table>\n",
              "<p>3430 rows × 1546 columns</p>\n",
              "</div>"
            ],
            "text/plain": [
              "      Cluster  abandon  abc  ability  abortion  absolute  abstain  abu  abuse  \\\n",
              "0           2        0    0        0         0         0        0    0      0   \n",
              "1           7        0    0        0         0         0        0    0      0   \n",
              "2           1        0    0        0         0         0        1    0      0   \n",
              "3           3        0    0        0         0         0        0    0      0   \n",
              "4           7        0    0        0         0         0        0    0      0   \n",
              "...       ...      ...  ...      ...       ...       ...      ...  ...    ...   \n",
              "3425        3        0    0        0         0         0        0    0      0   \n",
              "3426        2        0    0        0         0         0        0    0      0   \n",
              "3427        2        0    0        0         0         0        0    0      0   \n",
              "3428        2        0    0        0         0         0        0    0      0   \n",
              "3429        2        0    0        0         0         0        0    0      0   \n",
              "\n",
              "      accept  ...  yeah  year  yesterday  york  youll  young  youre  youve  \\\n",
              "0          0  ...     0     0          0     0      0      0      0      0   \n",
              "1          0  ...     0     0          0     0      0      0      0      0   \n",
              "2          0  ...     0     0          0     0      0      0      0      0   \n",
              "3          0  ...     0     0          2     0      0      1      0      0   \n",
              "4          0  ...     0     1          1     0      0      1      0      0   \n",
              "...      ...  ...   ...   ...        ...   ...    ...    ...    ...    ...   \n",
              "3425       0  ...     0     0          0     0      0      0      0      0   \n",
              "3426       0  ...     0     0          0     0      0      0      0      0   \n",
              "3427       0  ...     0     0          0     1      0      0      0      0   \n",
              "3428       0  ...     0     0          0     0      0      0      0      0   \n",
              "3429       0  ...     0     0          0     0      0      0      0      0   \n",
              "\n",
              "      zogby  zone  \n",
              "0         0     1  \n",
              "1         0     0  \n",
              "2         0     0  \n",
              "3         0     0  \n",
              "4         0     0  \n",
              "...     ...   ...  \n",
              "3425      0     0  \n",
              "3426      0     0  \n",
              "3427      0     0  \n",
              "3428      0     0  \n",
              "3429      0     0  \n",
              "\n",
              "[3430 rows x 1546 columns]"
            ]
          },
          "execution_count": 10,
          "metadata": {},
          "output_type": "execute_result"
        }
      ],
      "source": [
        "# Create a new DataFrame with the cluster assignments\n",
        "df_clusters = pd.DataFrame({'Cluster': hc_clusters})\n",
        "df_clusters = pd.concat([df_clusters, df], axis=1)\n",
        "df_clusters"
      ]
    },
    {
      "cell_type": "code",
      "execution_count": null,
      "id": "e3b7f355",
      "metadata": {
        "id": "e3b7f355",
        "outputId": "0d008343-f86d-4851-d15d-3791d02dd969"
      },
      "outputs": [
        {
          "data": {
            "text/plain": [
              "2    1761\n",
              "3     803\n",
              "1     324\n",
              "6     270\n",
              "7     167\n",
              "4      55\n",
              "5      50\n",
              "Name: Cluster, dtype: int64"
            ]
          },
          "execution_count": 11,
          "metadata": {},
          "output_type": "execute_result"
        }
      ],
      "source": [
        "counts = df_clusters['Cluster'].value_counts()\n",
        "counts"
      ]
    },
    {
      "cell_type": "markdown",
      "id": "0ad8c75b",
      "metadata": {
        "id": "0ad8c75b"
      },
      "source": [
        "### **Q) How many observations are in cluster 3?**"
      ]
    },
    {
      "cell_type": "code",
      "execution_count": null,
      "id": "91ca1da5",
      "metadata": {
        "id": "91ca1da5",
        "outputId": "ecc2d604-0ac1-46b2-e342-820a99116e68"
      },
      "outputs": [
        {
          "name": "stdout",
          "output_type": "stream",
          "text": [
            "803\n"
          ]
        }
      ],
      "source": [
        "print((df_clusters['Cluster'] == 3).sum())\n"
      ]
    },
    {
      "cell_type": "markdown",
      "id": "f67f33e6",
      "metadata": {
        "id": "f67f33e6"
      },
      "source": [
        "### **Q) Which cluster has the most observations?**"
      ]
    },
    {
      "cell_type": "code",
      "execution_count": null,
      "id": "588f30a3",
      "metadata": {
        "id": "588f30a3",
        "outputId": "8911116f-6bce-4e3c-c728-3052777018cd"
      },
      "outputs": [
        {
          "name": "stdout",
          "output_type": "stream",
          "text": [
            "2\n"
          ]
        }
      ],
      "source": [
        "# cluster with max observations\n",
        "max_cluster = counts.idxmax()\n",
        "print(max_cluster)"
      ]
    },
    {
      "cell_type": "markdown",
      "id": "009ee053",
      "metadata": {
        "id": "009ee053"
      },
      "source": [
        "### **Q) Which cluster has the fewest observations?**"
      ]
    },
    {
      "cell_type": "code",
      "execution_count": null,
      "id": "e5f8f7cb",
      "metadata": {
        "id": "e5f8f7cb",
        "outputId": "2b912299-9325-4acd-fcbf-a8811f4b90fb"
      },
      "outputs": [
        {
          "name": "stdout",
          "output_type": "stream",
          "text": [
            "5\n"
          ]
        }
      ],
      "source": [
        "# cluster with minimum observations\n",
        "min_cluster = counts.idxmin()\n",
        "print(min_cluster)"
      ]
    },
    {
      "cell_type": "markdown",
      "id": "872ee30b",
      "metadata": {
        "id": "872ee30b"
      },
      "source": [
        "### **Q4) Instead of looking at the average value in each variable individually, we’ll just look at the top 6 words in each cluster.Compute the mean frequency values of each of the words in cluster 1, and then output the 6 words that occur the most frequently.**"
      ]
    },
    {
      "cell_type": "code",
      "execution_count": null,
      "id": "cd16d08a",
      "metadata": {
        "id": "cd16d08a",
        "outputId": "893867e7-371a-46ec-9d72-6f1b0e3919e9"
      },
      "outputs": [
        {
          "name": "stdout",
          "output_type": "stream",
          "text": [
            "november     10.376543\n",
            "poll          4.851852\n",
            "vote          4.376543\n",
            "challenge     4.104938\n",
            "democrat      2.858025\n",
            "bush          2.858025\n",
            "dtype: float64\n"
          ]
        }
      ],
      "source": [
        "# Filter the data for Cluster 1\n",
        "cluster1 = df_clusters[hc_clusters == 1]\n",
        "#mean_freq = cluster1.mean()\n",
        "mean_freq = cluster1.iloc[:, 1:].mean()\n",
        "# Sort the words by their mean frequencies in descending order for top 6 words\n",
        "sorted_words = mean_freq.sort_values(ascending=False)[:6]\n",
        "sorted_words.values\n",
        "print(sorted_words)"
      ]
    },
    {
      "cell_type": "markdown",
      "id": "5cb82812",
      "metadata": {
        "id": "5cb82812"
      },
      "source": [
        "**'november' word is the most frequent word in cluster number 1 according to the average values**"
      ]
    },
    {
      "cell_type": "markdown",
      "id": "686f8325",
      "metadata": {
        "id": "686f8325"
      },
      "source": [
        "**Q5) Now repeat the command given in the previous problem for each of the other clusters, and answer the following questions.**"
      ]
    },
    {
      "cell_type": "code",
      "execution_count": null,
      "id": "0ff97005",
      "metadata": {
        "id": "0ff97005",
        "outputId": "a073c720-7d93-42c6-dc7d-8b8cbf74d982"
      },
      "outputs": [
        {
          "name": "stdout",
          "output_type": "stream",
          "text": [
            "bush          1.546281\n",
            "democrat      0.659852\n",
            "kerry         0.607609\n",
            "state         0.542873\n",
            "presided      0.526973\n",
            "republican    0.519591\n",
            "dtype: float64\n"
          ]
        }
      ],
      "source": [
        "# Filter the data for Cluster 2\n",
        "cluster2 = df_clusters[hc_clusters == 2]\n",
        "#mean_freq = cluster2.mean()\n",
        "mean_freq = cluster2.iloc[:, 1:].mean()\n",
        "# Sort the words by their mean frequencies in descending order for top 6 words\n",
        "sorted_words = mean_freq.sort_values(ascending=False)[:6]\n",
        "sorted_words.values\n",
        "print(sorted_words)"
      ]
    },
    {
      "cell_type": "code",
      "execution_count": null,
      "id": "b7e78e15",
      "metadata": {
        "id": "b7e78e15",
        "outputId": "38401fea-a89c-4816-878b-ac22da9ba614"
      },
      "outputs": [
        {
          "name": "stdout",
          "output_type": "stream",
          "text": [
            "poll          2.429639\n",
            "kerry         2.012453\n",
            "bush          1.922790\n",
            "democrat      1.823163\n",
            "republican    1.328767\n",
            "elect         1.165629\n",
            "dtype: float64\n"
          ]
        }
      ],
      "source": [
        "# Filter the data for Cluster 3\n",
        "cluster3 = df_clusters[hc_clusters == 3]\n",
        "mean_freq = cluster3.iloc[:, 1:].mean()\n",
        "# Sort the words by their mean frequencies in descending order for top 6 words\n",
        "sorted_words = mean_freq.sort_values(ascending=False)[:6]\n",
        "sorted_words.values\n",
        "print(sorted_words)"
      ]
    },
    {
      "cell_type": "code",
      "execution_count": null,
      "id": "37c9ba9a",
      "metadata": {
        "id": "37c9ba9a",
        "outputId": "2372e08b-a94e-43f1-88a4-71f8a5f733e9"
      },
      "outputs": [
        {
          "name": "stdout",
          "output_type": "stream",
          "text": [
            "dean         12.309091\n",
            "kerry         5.345455\n",
            "democrat      3.545455\n",
            "edward        2.818182\n",
            "candidate     2.727273\n",
            "gephardt      2.672727\n",
            "dtype: float64\n"
          ]
        }
      ],
      "source": [
        "# Filter the data for Cluster 4\n",
        "cluster4 = df_clusters[hc_clusters == 4]\n",
        "mean_freq = cluster4.iloc[:, 1:].mean()\n",
        "# Sort the words by their mean frequencies in descending order for top 6 words\n",
        "sorted_words = mean_freq.sort_values(ascending=False)[:6]\n",
        "sorted_words.values\n",
        "print(sorted_words)"
      ]
    },
    {
      "cell_type": "code",
      "execution_count": null,
      "id": "fbfb1d29",
      "metadata": {
        "id": "fbfb1d29",
        "outputId": "a2f86e9d-2467-4782-fa82-deaaf5d34508"
      },
      "outputs": [
        {
          "name": "stdout",
          "output_type": "stream",
          "text": [
            "democrat      12.38\n",
            "parties        6.34\n",
            "state          5.74\n",
            "republican     5.64\n",
            "senate         3.30\n",
            "seat           3.14\n",
            "dtype: float64\n"
          ]
        }
      ],
      "source": [
        "# Filter the data for Cluster 5\n",
        "cluster5 = df_clusters[hc_clusters == 5]\n",
        "mean_freq = cluster5.iloc[:, 1:].mean()\n",
        "# Sort the words by their mean frequencies in descending order for top 6 words\n",
        "sorted_words = mean_freq.sort_values(ascending=False)[:6]\n",
        "sorted_words.values\n",
        "print(sorted_words)"
      ]
    },
    {
      "cell_type": "code",
      "execution_count": null,
      "id": "053d05cf",
      "metadata": {
        "id": "053d05cf",
        "outputId": "8a73a653-162b-49d8-f6da-6520785cfd48"
      },
      "outputs": [
        {
          "name": "stdout",
          "output_type": "stream",
          "text": [
            "bush              4.777778\n",
            "iraq              3.425926\n",
            "war               2.470370\n",
            "administration    2.225926\n",
            "american          1.633333\n",
            "presided          1.488889\n",
            "dtype: float64\n"
          ]
        }
      ],
      "source": [
        "# Filter the data for Cluster 6\n",
        "cluster6 = df_clusters[hc_clusters == 6]\n",
        "mean_freq = cluster6.iloc[:, 1:].mean()\n",
        "# Sort the words by their mean frequencies in descending order for top 6 words\n",
        "sorted_words = mean_freq.sort_values(ascending=False)[:6]\n",
        "sorted_words.values\n",
        "print(sorted_words)"
      ]
    },
    {
      "cell_type": "code",
      "execution_count": null,
      "id": "65a3033e",
      "metadata": {
        "id": "65a3033e",
        "outputId": "ef245545-cd84-4599-fab0-e8141ce768c8"
      },
      "outputs": [
        {
          "name": "stdout",
          "output_type": "stream",
          "text": [
            "kerry       8.101796\n",
            "bush        7.574850\n",
            "campaign    1.862275\n",
            "poll        1.736527\n",
            "presided    1.616766\n",
            "democrat    1.389222\n",
            "dtype: float64\n"
          ]
        }
      ],
      "source": [
        "# Filter the data for Cluster 7\n",
        "cluster7 = df_clusters[hc_clusters == 7]\n",
        "mean_freq = cluster7.iloc[:, 1:].mean()\n",
        "# Sort the words by their mean frequencies in descending order for top 6 words\n",
        "sorted_words = mean_freq.sort_values(ascending=False)[:6]\n",
        "sorted_words.values\n",
        "print(sorted_words)"
      ]
    },
    {
      "cell_type": "code",
      "execution_count": null,
      "id": "fe64aeab",
      "metadata": {
        "id": "fe64aeab",
        "outputId": "f10269f2-d2c5-4c81-ca83-bf66e224d164"
      },
      "outputs": [
        {
          "data": {
            "text/html": [
              "<div>\n",
              "<style scoped>\n",
              "    .dataframe tbody tr th:only-of-type {\n",
              "        vertical-align: middle;\n",
              "    }\n",
              "\n",
              "    .dataframe tbody tr th {\n",
              "        vertical-align: top;\n",
              "    }\n",
              "\n",
              "    .dataframe thead th {\n",
              "        text-align: right;\n",
              "    }\n",
              "</style>\n",
              "<table border=\"1\" class=\"dataframe\">\n",
              "  <thead>\n",
              "    <tr style=\"text-align: right;\">\n",
              "      <th></th>\n",
              "      <th>cluster_1</th>\n",
              "      <th>cluster_1_frequency</th>\n",
              "      <th>cluster_2</th>\n",
              "      <th>cluster_2_frequency</th>\n",
              "      <th>cluster_3</th>\n",
              "      <th>cluster_3_frequency</th>\n",
              "      <th>cluster_4</th>\n",
              "      <th>cluster_4_frequency</th>\n",
              "      <th>cluster_5</th>\n",
              "      <th>cluster_5_frequency</th>\n",
              "      <th>cluster_6</th>\n",
              "      <th>cluster_6_frequency</th>\n",
              "      <th>cluster_7</th>\n",
              "      <th>cluster_7_frequency</th>\n",
              "    </tr>\n",
              "  </thead>\n",
              "  <tbody>\n",
              "    <tr>\n",
              "      <th>0</th>\n",
              "      <td>november</td>\n",
              "      <td>10.376543</td>\n",
              "      <td>bush</td>\n",
              "      <td>1.546281</td>\n",
              "      <td>poll</td>\n",
              "      <td>2.429639</td>\n",
              "      <td>dean</td>\n",
              "      <td>12.309091</td>\n",
              "      <td>democrat</td>\n",
              "      <td>12.38</td>\n",
              "      <td>bush</td>\n",
              "      <td>4.777778</td>\n",
              "      <td>kerry</td>\n",
              "      <td>8.101796</td>\n",
              "    </tr>\n",
              "    <tr>\n",
              "      <th>1</th>\n",
              "      <td>poll</td>\n",
              "      <td>4.851852</td>\n",
              "      <td>democrat</td>\n",
              "      <td>0.659852</td>\n",
              "      <td>kerry</td>\n",
              "      <td>2.012453</td>\n",
              "      <td>kerry</td>\n",
              "      <td>5.345455</td>\n",
              "      <td>parties</td>\n",
              "      <td>6.34</td>\n",
              "      <td>iraq</td>\n",
              "      <td>3.425926</td>\n",
              "      <td>bush</td>\n",
              "      <td>7.574850</td>\n",
              "    </tr>\n",
              "    <tr>\n",
              "      <th>2</th>\n",
              "      <td>vote</td>\n",
              "      <td>4.376543</td>\n",
              "      <td>kerry</td>\n",
              "      <td>0.607609</td>\n",
              "      <td>bush</td>\n",
              "      <td>1.922790</td>\n",
              "      <td>democrat</td>\n",
              "      <td>3.545455</td>\n",
              "      <td>state</td>\n",
              "      <td>5.74</td>\n",
              "      <td>war</td>\n",
              "      <td>2.470370</td>\n",
              "      <td>campaign</td>\n",
              "      <td>1.862275</td>\n",
              "    </tr>\n",
              "    <tr>\n",
              "      <th>3</th>\n",
              "      <td>challenge</td>\n",
              "      <td>4.104938</td>\n",
              "      <td>state</td>\n",
              "      <td>0.542873</td>\n",
              "      <td>democrat</td>\n",
              "      <td>1.823163</td>\n",
              "      <td>edward</td>\n",
              "      <td>2.818182</td>\n",
              "      <td>republican</td>\n",
              "      <td>5.64</td>\n",
              "      <td>administration</td>\n",
              "      <td>2.225926</td>\n",
              "      <td>poll</td>\n",
              "      <td>1.736527</td>\n",
              "    </tr>\n",
              "    <tr>\n",
              "      <th>4</th>\n",
              "      <td>democrat</td>\n",
              "      <td>2.858025</td>\n",
              "      <td>presided</td>\n",
              "      <td>0.526973</td>\n",
              "      <td>republican</td>\n",
              "      <td>1.328767</td>\n",
              "      <td>candidate</td>\n",
              "      <td>2.727273</td>\n",
              "      <td>senate</td>\n",
              "      <td>3.30</td>\n",
              "      <td>american</td>\n",
              "      <td>1.633333</td>\n",
              "      <td>presided</td>\n",
              "      <td>1.616766</td>\n",
              "    </tr>\n",
              "    <tr>\n",
              "      <th>5</th>\n",
              "      <td>bush</td>\n",
              "      <td>2.858025</td>\n",
              "      <td>republican</td>\n",
              "      <td>0.519591</td>\n",
              "      <td>elect</td>\n",
              "      <td>1.165629</td>\n",
              "      <td>gephardt</td>\n",
              "      <td>2.672727</td>\n",
              "      <td>seat</td>\n",
              "      <td>3.14</td>\n",
              "      <td>presided</td>\n",
              "      <td>1.488889</td>\n",
              "      <td>democrat</td>\n",
              "      <td>1.389222</td>\n",
              "    </tr>\n",
              "  </tbody>\n",
              "</table>\n",
              "</div>"
            ],
            "text/plain": [
              "   cluster_1  cluster_1_frequency   cluster_2  cluster_2_frequency  \\\n",
              "0   november            10.376543        bush             1.546281   \n",
              "1       poll             4.851852    democrat             0.659852   \n",
              "2       vote             4.376543       kerry             0.607609   \n",
              "3  challenge             4.104938       state             0.542873   \n",
              "4   democrat             2.858025    presided             0.526973   \n",
              "5       bush             2.858025  republican             0.519591   \n",
              "\n",
              "    cluster_3  cluster_3_frequency  cluster_4  cluster_4_frequency  \\\n",
              "0        poll             2.429639       dean            12.309091   \n",
              "1       kerry             2.012453      kerry             5.345455   \n",
              "2        bush             1.922790   democrat             3.545455   \n",
              "3    democrat             1.823163     edward             2.818182   \n",
              "4  republican             1.328767  candidate             2.727273   \n",
              "5       elect             1.165629   gephardt             2.672727   \n",
              "\n",
              "    cluster_5  cluster_5_frequency       cluster_6  cluster_6_frequency  \\\n",
              "0    democrat                12.38            bush             4.777778   \n",
              "1     parties                 6.34            iraq             3.425926   \n",
              "2       state                 5.74             war             2.470370   \n",
              "3  republican                 5.64  administration             2.225926   \n",
              "4      senate                 3.30        american             1.633333   \n",
              "5        seat                 3.14        presided             1.488889   \n",
              "\n",
              "  cluster_7  cluster_7_frequency  \n",
              "0     kerry             8.101796  \n",
              "1      bush             7.574850  \n",
              "2  campaign             1.862275  \n",
              "3      poll             1.736527  \n",
              "4  presided             1.616766  \n",
              "5  democrat             1.389222  "
            ]
          },
          "execution_count": 29,
          "metadata": {},
          "output_type": "execute_result"
        }
      ],
      "source": [
        "#Output of all the clusters with frequency\n",
        "num_clusters = 7\n",
        "var_names = [f\"cluster_{i}\" for i in range(1, num_clusters+1)]\n",
        "top_words_df = pd.DataFrame()\n",
        "for i in range(1, num_clusters+1):\n",
        "    cluster = df_clusters[hc_clusters == i]\n",
        "    mean_freq = cluster.iloc[:, 1:].mean()\n",
        "    top_words = mean_freq.sort_values(ascending=False)[:6]\n",
        "    cluster_name = var_names[i-1]\n",
        "    freq_name = f\"{var_names[i-1]}_frequency\"\n",
        "    top_words_df[cluster_name] = top_words.index.tolist()\n",
        "    top_words_df[freq_name] = top_words.values.tolist()\n",
        "top_words_df"
      ]
    },
    {
      "cell_type": "markdown",
      "id": "fa84d160",
      "metadata": {
        "id": "fa84d160"
      },
      "source": [
        "**Q) Which cluster could best be described as the cluster related to the Iraq war?**"
      ]
    },
    {
      "cell_type": "markdown",
      "id": "eaeb7548",
      "metadata": {
        "id": "eaeb7548"
      },
      "source": [
        "According to the output of most frequent words in each clusters, cluster 6 is relatively more relevant to Iraq war"
      ]
    },
    {
      "cell_type": "markdown",
      "id": "f7f4b676",
      "metadata": {
        "id": "f7f4b676"
      },
      "source": [
        "**Q) In 2004, one of the candidates for the Democratic nomination for the President of the United States was Howard Dean, John Kerry was the candidate who won the democratic nomination, and John Edwards with the running mate of John Kerry (the Vice President nominee). Given this information, which cluster best corresponds to the democratic party?**"
      ]
    },
    {
      "cell_type": "markdown",
      "id": "2defd658",
      "metadata": {
        "id": "2defd658"
      },
      "source": [
        "Cluster 4 has most frequent words like 'dean','kerry','candidate','democrat','edward' this indicates that this maybe more related to the democratic party"
      ]
    },
    {
      "cell_type": "code",
      "execution_count": null,
      "id": "70f3744d",
      "metadata": {
        "id": "70f3744d"
      },
      "outputs": [],
      "source": [
        "from sklearn.cluster import KMeans\n",
        "kmeans = KMeans(n_clusters=7, random_state=1000, n_init=150).fit(df)\n",
        "clusters = kmeans.predict(df)\n",
        "clusters = clusters+1"
      ]
    },
    {
      "cell_type": "code",
      "execution_count": null,
      "id": "4260bc03",
      "metadata": {
        "id": "4260bc03",
        "outputId": "e0662801-b863-4fb9-e0df-a79ebeef7153"
      },
      "outputs": [
        {
          "data": {
            "text/plain": [
              "array([1, 2, 3, 4, 5, 6, 7])"
            ]
          },
          "execution_count": 31,
          "metadata": {},
          "output_type": "execute_result"
        }
      ],
      "source": [
        "np.unique(clusters)"
      ]
    },
    {
      "cell_type": "code",
      "execution_count": null,
      "id": "b289b9d2",
      "metadata": {
        "id": "b289b9d2"
      },
      "outputs": [],
      "source": [
        "# Create a new DataFrame with the cluster assignments\n",
        "df_clusters2 = pd.DataFrame({'kmeans_Cluster': clusters})\n",
        "df_clusters2 = pd.concat([df_clusters2, df], axis=1)"
      ]
    },
    {
      "cell_type": "code",
      "execution_count": null,
      "id": "55795fdc",
      "metadata": {
        "id": "55795fdc",
        "outputId": "5bdc1b38-c498-4a10-f0df-a76cfd32b0b5"
      },
      "outputs": [
        {
          "data": {
            "text/html": [
              "<div>\n",
              "<style scoped>\n",
              "    .dataframe tbody tr th:only-of-type {\n",
              "        vertical-align: middle;\n",
              "    }\n",
              "\n",
              "    .dataframe tbody tr th {\n",
              "        vertical-align: top;\n",
              "    }\n",
              "\n",
              "    .dataframe thead th {\n",
              "        text-align: right;\n",
              "    }\n",
              "</style>\n",
              "<table border=\"1\" class=\"dataframe\">\n",
              "  <thead>\n",
              "    <tr style=\"text-align: right;\">\n",
              "      <th></th>\n",
              "      <th>kmeans_Cluster</th>\n",
              "      <th>abandon</th>\n",
              "      <th>abc</th>\n",
              "      <th>ability</th>\n",
              "      <th>abortion</th>\n",
              "      <th>absolute</th>\n",
              "      <th>abstain</th>\n",
              "      <th>abu</th>\n",
              "      <th>abuse</th>\n",
              "      <th>accept</th>\n",
              "      <th>...</th>\n",
              "      <th>yeah</th>\n",
              "      <th>year</th>\n",
              "      <th>yesterday</th>\n",
              "      <th>york</th>\n",
              "      <th>youll</th>\n",
              "      <th>young</th>\n",
              "      <th>youre</th>\n",
              "      <th>youve</th>\n",
              "      <th>zogby</th>\n",
              "      <th>zone</th>\n",
              "    </tr>\n",
              "  </thead>\n",
              "  <tbody>\n",
              "    <tr>\n",
              "      <th>0</th>\n",
              "      <td>7</td>\n",
              "      <td>0</td>\n",
              "      <td>0</td>\n",
              "      <td>0</td>\n",
              "      <td>0</td>\n",
              "      <td>0</td>\n",
              "      <td>0</td>\n",
              "      <td>0</td>\n",
              "      <td>0</td>\n",
              "      <td>0</td>\n",
              "      <td>...</td>\n",
              "      <td>0</td>\n",
              "      <td>0</td>\n",
              "      <td>0</td>\n",
              "      <td>0</td>\n",
              "      <td>0</td>\n",
              "      <td>0</td>\n",
              "      <td>0</td>\n",
              "      <td>0</td>\n",
              "      <td>0</td>\n",
              "      <td>1</td>\n",
              "    </tr>\n",
              "    <tr>\n",
              "      <th>1</th>\n",
              "      <td>7</td>\n",
              "      <td>0</td>\n",
              "      <td>0</td>\n",
              "      <td>0</td>\n",
              "      <td>0</td>\n",
              "      <td>0</td>\n",
              "      <td>0</td>\n",
              "      <td>0</td>\n",
              "      <td>0</td>\n",
              "      <td>0</td>\n",
              "      <td>...</td>\n",
              "      <td>0</td>\n",
              "      <td>0</td>\n",
              "      <td>0</td>\n",
              "      <td>0</td>\n",
              "      <td>0</td>\n",
              "      <td>0</td>\n",
              "      <td>0</td>\n",
              "      <td>0</td>\n",
              "      <td>0</td>\n",
              "      <td>0</td>\n",
              "    </tr>\n",
              "    <tr>\n",
              "      <th>2</th>\n",
              "      <td>6</td>\n",
              "      <td>0</td>\n",
              "      <td>0</td>\n",
              "      <td>0</td>\n",
              "      <td>0</td>\n",
              "      <td>0</td>\n",
              "      <td>1</td>\n",
              "      <td>0</td>\n",
              "      <td>0</td>\n",
              "      <td>0</td>\n",
              "      <td>...</td>\n",
              "      <td>0</td>\n",
              "      <td>0</td>\n",
              "      <td>0</td>\n",
              "      <td>0</td>\n",
              "      <td>0</td>\n",
              "      <td>0</td>\n",
              "      <td>0</td>\n",
              "      <td>0</td>\n",
              "      <td>0</td>\n",
              "      <td>0</td>\n",
              "    </tr>\n",
              "    <tr>\n",
              "      <th>3</th>\n",
              "      <td>7</td>\n",
              "      <td>0</td>\n",
              "      <td>0</td>\n",
              "      <td>0</td>\n",
              "      <td>0</td>\n",
              "      <td>0</td>\n",
              "      <td>0</td>\n",
              "      <td>0</td>\n",
              "      <td>0</td>\n",
              "      <td>0</td>\n",
              "      <td>...</td>\n",
              "      <td>0</td>\n",
              "      <td>0</td>\n",
              "      <td>2</td>\n",
              "      <td>0</td>\n",
              "      <td>0</td>\n",
              "      <td>1</td>\n",
              "      <td>0</td>\n",
              "      <td>0</td>\n",
              "      <td>0</td>\n",
              "      <td>0</td>\n",
              "    </tr>\n",
              "    <tr>\n",
              "      <th>4</th>\n",
              "      <td>4</td>\n",
              "      <td>0</td>\n",
              "      <td>0</td>\n",
              "      <td>0</td>\n",
              "      <td>0</td>\n",
              "      <td>0</td>\n",
              "      <td>0</td>\n",
              "      <td>0</td>\n",
              "      <td>0</td>\n",
              "      <td>0</td>\n",
              "      <td>...</td>\n",
              "      <td>0</td>\n",
              "      <td>1</td>\n",
              "      <td>1</td>\n",
              "      <td>0</td>\n",
              "      <td>0</td>\n",
              "      <td>1</td>\n",
              "      <td>0</td>\n",
              "      <td>0</td>\n",
              "      <td>0</td>\n",
              "      <td>0</td>\n",
              "    </tr>\n",
              "    <tr>\n",
              "      <th>...</th>\n",
              "      <td>...</td>\n",
              "      <td>...</td>\n",
              "      <td>...</td>\n",
              "      <td>...</td>\n",
              "      <td>...</td>\n",
              "      <td>...</td>\n",
              "      <td>...</td>\n",
              "      <td>...</td>\n",
              "      <td>...</td>\n",
              "      <td>...</td>\n",
              "      <td>...</td>\n",
              "      <td>...</td>\n",
              "      <td>...</td>\n",
              "      <td>...</td>\n",
              "      <td>...</td>\n",
              "      <td>...</td>\n",
              "      <td>...</td>\n",
              "      <td>...</td>\n",
              "      <td>...</td>\n",
              "      <td>...</td>\n",
              "      <td>...</td>\n",
              "    </tr>\n",
              "    <tr>\n",
              "      <th>3425</th>\n",
              "      <td>4</td>\n",
              "      <td>0</td>\n",
              "      <td>0</td>\n",
              "      <td>0</td>\n",
              "      <td>0</td>\n",
              "      <td>0</td>\n",
              "      <td>0</td>\n",
              "      <td>0</td>\n",
              "      <td>0</td>\n",
              "      <td>0</td>\n",
              "      <td>...</td>\n",
              "      <td>0</td>\n",
              "      <td>0</td>\n",
              "      <td>0</td>\n",
              "      <td>0</td>\n",
              "      <td>0</td>\n",
              "      <td>0</td>\n",
              "      <td>0</td>\n",
              "      <td>0</td>\n",
              "      <td>0</td>\n",
              "      <td>0</td>\n",
              "    </tr>\n",
              "    <tr>\n",
              "      <th>3426</th>\n",
              "      <td>7</td>\n",
              "      <td>0</td>\n",
              "      <td>0</td>\n",
              "      <td>0</td>\n",
              "      <td>0</td>\n",
              "      <td>0</td>\n",
              "      <td>0</td>\n",
              "      <td>0</td>\n",
              "      <td>0</td>\n",
              "      <td>0</td>\n",
              "      <td>...</td>\n",
              "      <td>0</td>\n",
              "      <td>0</td>\n",
              "      <td>0</td>\n",
              "      <td>0</td>\n",
              "      <td>0</td>\n",
              "      <td>0</td>\n",
              "      <td>0</td>\n",
              "      <td>0</td>\n",
              "      <td>0</td>\n",
              "      <td>0</td>\n",
              "    </tr>\n",
              "    <tr>\n",
              "      <th>3427</th>\n",
              "      <td>7</td>\n",
              "      <td>0</td>\n",
              "      <td>0</td>\n",
              "      <td>0</td>\n",
              "      <td>0</td>\n",
              "      <td>0</td>\n",
              "      <td>0</td>\n",
              "      <td>0</td>\n",
              "      <td>0</td>\n",
              "      <td>0</td>\n",
              "      <td>...</td>\n",
              "      <td>0</td>\n",
              "      <td>0</td>\n",
              "      <td>0</td>\n",
              "      <td>1</td>\n",
              "      <td>0</td>\n",
              "      <td>0</td>\n",
              "      <td>0</td>\n",
              "      <td>0</td>\n",
              "      <td>0</td>\n",
              "      <td>0</td>\n",
              "    </tr>\n",
              "    <tr>\n",
              "      <th>3428</th>\n",
              "      <td>7</td>\n",
              "      <td>0</td>\n",
              "      <td>0</td>\n",
              "      <td>0</td>\n",
              "      <td>0</td>\n",
              "      <td>0</td>\n",
              "      <td>0</td>\n",
              "      <td>0</td>\n",
              "      <td>0</td>\n",
              "      <td>0</td>\n",
              "      <td>...</td>\n",
              "      <td>0</td>\n",
              "      <td>0</td>\n",
              "      <td>0</td>\n",
              "      <td>0</td>\n",
              "      <td>0</td>\n",
              "      <td>0</td>\n",
              "      <td>0</td>\n",
              "      <td>0</td>\n",
              "      <td>0</td>\n",
              "      <td>0</td>\n",
              "    </tr>\n",
              "    <tr>\n",
              "      <th>3429</th>\n",
              "      <td>7</td>\n",
              "      <td>0</td>\n",
              "      <td>0</td>\n",
              "      <td>0</td>\n",
              "      <td>0</td>\n",
              "      <td>0</td>\n",
              "      <td>0</td>\n",
              "      <td>0</td>\n",
              "      <td>0</td>\n",
              "      <td>0</td>\n",
              "      <td>...</td>\n",
              "      <td>0</td>\n",
              "      <td>0</td>\n",
              "      <td>0</td>\n",
              "      <td>0</td>\n",
              "      <td>0</td>\n",
              "      <td>0</td>\n",
              "      <td>0</td>\n",
              "      <td>0</td>\n",
              "      <td>0</td>\n",
              "      <td>0</td>\n",
              "    </tr>\n",
              "  </tbody>\n",
              "</table>\n",
              "<p>3430 rows × 1546 columns</p>\n",
              "</div>"
            ],
            "text/plain": [
              "      kmeans_Cluster  abandon  abc  ability  abortion  absolute  abstain  abu  \\\n",
              "0                  7        0    0        0         0         0        0    0   \n",
              "1                  7        0    0        0         0         0        0    0   \n",
              "2                  6        0    0        0         0         0        1    0   \n",
              "3                  7        0    0        0         0         0        0    0   \n",
              "4                  4        0    0        0         0         0        0    0   \n",
              "...              ...      ...  ...      ...       ...       ...      ...  ...   \n",
              "3425               4        0    0        0         0         0        0    0   \n",
              "3426               7        0    0        0         0         0        0    0   \n",
              "3427               7        0    0        0         0         0        0    0   \n",
              "3428               7        0    0        0         0         0        0    0   \n",
              "3429               7        0    0        0         0         0        0    0   \n",
              "\n",
              "      abuse  accept  ...  yeah  year  yesterday  york  youll  young  youre  \\\n",
              "0         0       0  ...     0     0          0     0      0      0      0   \n",
              "1         0       0  ...     0     0          0     0      0      0      0   \n",
              "2         0       0  ...     0     0          0     0      0      0      0   \n",
              "3         0       0  ...     0     0          2     0      0      1      0   \n",
              "4         0       0  ...     0     1          1     0      0      1      0   \n",
              "...     ...     ...  ...   ...   ...        ...   ...    ...    ...    ...   \n",
              "3425      0       0  ...     0     0          0     0      0      0      0   \n",
              "3426      0       0  ...     0     0          0     0      0      0      0   \n",
              "3427      0       0  ...     0     0          0     1      0      0      0   \n",
              "3428      0       0  ...     0     0          0     0      0      0      0   \n",
              "3429      0       0  ...     0     0          0     0      0      0      0   \n",
              "\n",
              "      youve  zogby  zone  \n",
              "0         0      0     1  \n",
              "1         0      0     0  \n",
              "2         0      0     0  \n",
              "3         0      0     0  \n",
              "4         0      0     0  \n",
              "...     ...    ...   ...  \n",
              "3425      0      0     0  \n",
              "3426      0      0     0  \n",
              "3427      0      0     0  \n",
              "3428      0      0     0  \n",
              "3429      0      0     0  \n",
              "\n",
              "[3430 rows x 1546 columns]"
            ]
          },
          "execution_count": 33,
          "metadata": {},
          "output_type": "execute_result"
        }
      ],
      "source": [
        "df_clusters2"
      ]
    },
    {
      "cell_type": "code",
      "execution_count": null,
      "id": "dd582158",
      "metadata": {
        "id": "dd582158",
        "outputId": "558b1abe-5389-4c5d-b0ae-e55fb47a174d"
      },
      "outputs": [
        {
          "name": "stdout",
          "output_type": "stream",
          "text": [
            "255\n"
          ]
        }
      ],
      "source": [
        "# How many observations are in cluster 3?\n",
        "print((df_clusters2['kmeans_Cluster'] == 3).sum())"
      ]
    },
    {
      "cell_type": "code",
      "execution_count": null,
      "id": "16bc1698",
      "metadata": {
        "id": "16bc1698",
        "outputId": "c5d28785-711c-451b-f3e5-c32330f7d928"
      },
      "outputs": [
        {
          "name": "stdout",
          "output_type": "stream",
          "text": [
            "7\n"
          ]
        }
      ],
      "source": [
        "# Which cluster has the most observations?\n",
        "print(df_clusters2['kmeans_Cluster'].value_counts().idxmax())"
      ]
    },
    {
      "cell_type": "code",
      "execution_count": null,
      "id": "053c3ac6",
      "metadata": {
        "id": "053c3ac6",
        "outputId": "7a94a5d9-6bbe-4ca4-b944-8b5c790316eb"
      },
      "outputs": [
        {
          "name": "stdout",
          "output_type": "stream",
          "text": [
            "5\n"
          ]
        }
      ],
      "source": [
        "# Which cluster has the fewest observations?\n",
        "print(df_clusters2['kmeans_Cluster'].value_counts().idxmin())"
      ]
    },
    {
      "cell_type": "code",
      "execution_count": null,
      "id": "bed14f65",
      "metadata": {
        "id": "bed14f65",
        "outputId": "1db8ba3f-e964-4b6b-fc76-ced25f9897ed"
      },
      "outputs": [
        {
          "data": {
            "text/plain": [
              "7    1894\n",
              "4     383\n",
              "1     364\n",
              "6     330\n",
              "3     255\n",
              "2     158\n",
              "5      46\n",
              "Name: kmeans_Cluster, dtype: int64"
            ]
          },
          "execution_count": 37,
          "metadata": {},
          "output_type": "execute_result"
        }
      ],
      "source": [
        "df_clusters2['kmeans_Cluster'].value_counts()"
      ]
    },
    {
      "cell_type": "markdown",
      "id": "b9c1608c",
      "metadata": {
        "id": "b9c1608c"
      },
      "source": [
        "**Now, output the six most frequent words in each cluster, like we did in the previous problem, for each of the k-means clusters.**"
      ]
    },
    {
      "cell_type": "code",
      "execution_count": null,
      "id": "46e766c3",
      "metadata": {
        "id": "46e766c3",
        "outputId": "cb6bd3d2-a27c-4b2d-8439-5417403a7ea7"
      },
      "outputs": [
        {
          "data": {
            "text/html": [
              "<div>\n",
              "<style scoped>\n",
              "    .dataframe tbody tr th:only-of-type {\n",
              "        vertical-align: middle;\n",
              "    }\n",
              "\n",
              "    .dataframe tbody tr th {\n",
              "        vertical-align: top;\n",
              "    }\n",
              "\n",
              "    .dataframe thead th {\n",
              "        text-align: right;\n",
              "    }\n",
              "</style>\n",
              "<table border=\"1\" class=\"dataframe\">\n",
              "  <thead>\n",
              "    <tr style=\"text-align: right;\">\n",
              "      <th></th>\n",
              "      <th>cluster_1</th>\n",
              "      <th>cluster_2</th>\n",
              "      <th>cluster_3</th>\n",
              "      <th>cluster_4</th>\n",
              "      <th>cluster_5</th>\n",
              "      <th>cluster_6</th>\n",
              "      <th>cluster_7</th>\n",
              "    </tr>\n",
              "  </thead>\n",
              "  <tbody>\n",
              "    <tr>\n",
              "      <th>0</th>\n",
              "      <td>democrat</td>\n",
              "      <td>dean</td>\n",
              "      <td>iraq</td>\n",
              "      <td>bush</td>\n",
              "      <td>democrat</td>\n",
              "      <td>november</td>\n",
              "      <td>bush</td>\n",
              "    </tr>\n",
              "    <tr>\n",
              "      <th>1</th>\n",
              "      <td>republican</td>\n",
              "      <td>kerry</td>\n",
              "      <td>bush</td>\n",
              "      <td>kerry</td>\n",
              "      <td>parties</td>\n",
              "      <td>poll</td>\n",
              "      <td>kerry</td>\n",
              "    </tr>\n",
              "    <tr>\n",
              "      <th>2</th>\n",
              "      <td>elect</td>\n",
              "      <td>clark</td>\n",
              "      <td>war</td>\n",
              "      <td>poll</td>\n",
              "      <td>republican</td>\n",
              "      <td>vote</td>\n",
              "      <td>poll</td>\n",
              "    </tr>\n",
              "    <tr>\n",
              "      <th>3</th>\n",
              "      <td>state</td>\n",
              "      <td>edward</td>\n",
              "      <td>administration</td>\n",
              "      <td>presided</td>\n",
              "      <td>state</td>\n",
              "      <td>challenge</td>\n",
              "      <td>democrat</td>\n",
              "    </tr>\n",
              "    <tr>\n",
              "      <th>4</th>\n",
              "      <td>senate</td>\n",
              "      <td>democrat</td>\n",
              "      <td>american</td>\n",
              "      <td>campaign</td>\n",
              "      <td>seat</td>\n",
              "      <td>bush</td>\n",
              "      <td>general</td>\n",
              "    </tr>\n",
              "    <tr>\n",
              "      <th>5</th>\n",
              "      <td>parties</td>\n",
              "      <td>poll</td>\n",
              "      <td>iraqi</td>\n",
              "      <td>democrat</td>\n",
              "      <td>senate</td>\n",
              "      <td>democrat</td>\n",
              "      <td>elect</td>\n",
              "    </tr>\n",
              "  </tbody>\n",
              "</table>\n",
              "</div>"
            ],
            "text/plain": [
              "    cluster_1 cluster_2       cluster_3 cluster_4   cluster_5  cluster_6  \\\n",
              "0    democrat      dean            iraq      bush    democrat   november   \n",
              "1  republican     kerry            bush     kerry     parties       poll   \n",
              "2       elect     clark             war      poll  republican       vote   \n",
              "3       state    edward  administration  presided       state  challenge   \n",
              "4      senate  democrat        american  campaign        seat       bush   \n",
              "5     parties      poll           iraqi  democrat      senate   democrat   \n",
              "\n",
              "  cluster_7  \n",
              "0      bush  \n",
              "1     kerry  \n",
              "2      poll  \n",
              "3  democrat  \n",
              "4   general  \n",
              "5     elect  "
            ]
          },
          "execution_count": 38,
          "metadata": {},
          "output_type": "execute_result"
        }
      ],
      "source": [
        "# Displaying 6 most frequent words in each cluster\n",
        "num_clusters = 7\n",
        "var_names = [f\"cluster_{i}\" for i in range(1, num_clusters+1)]\n",
        "top_words_df = pd.DataFrame(columns=var_names)\n",
        "for i in range(1, num_clusters+1):\n",
        "    cluster = df_clusters2[clusters == i]\n",
        "    mean_freq = cluster.iloc[:, 1:].mean()\n",
        "    top_words = mean_freq.sort_values(ascending=False)[:6]\n",
        "    top_words_df[var_names[i-1]] = top_words.index.tolist()\n",
        "top_words_df"
      ]
    },
    {
      "cell_type": "markdown",
      "id": "9da68c3a",
      "metadata": {
        "id": "9da68c3a"
      },
      "source": [
        "**Q) Which k-means cluster best corresponds to the Iraq War?**"
      ]
    },
    {
      "cell_type": "markdown",
      "id": "97893e37",
      "metadata": {
        "id": "97893e37"
      },
      "source": [
        "Cluster 3"
      ]
    },
    {
      "cell_type": "markdown",
      "id": "04cd11f2",
      "metadata": {
        "id": "04cd11f2"
      },
      "source": [
        "**Q) Which k-means cluster best corresponds to the democratic party?**"
      ]
    },
    {
      "cell_type": "markdown",
      "id": "adbcbdd0",
      "metadata": {
        "id": "adbcbdd0"
      },
      "source": [
        "Cluster 2"
      ]
    },
    {
      "cell_type": "code",
      "execution_count": null,
      "id": "2dc4a949",
      "metadata": {
        "id": "2dc4a949",
        "outputId": "b9927a3f-c6a9-45d3-fd1e-e02ed7fd89a3"
      },
      "outputs": [
        {
          "data": {
            "text/html": [
              "<div>\n",
              "<style scoped>\n",
              "    .dataframe tbody tr th:only-of-type {\n",
              "        vertical-align: middle;\n",
              "    }\n",
              "\n",
              "    .dataframe tbody tr th {\n",
              "        vertical-align: top;\n",
              "    }\n",
              "\n",
              "    .dataframe thead th {\n",
              "        text-align: right;\n",
              "    }\n",
              "</style>\n",
              "<table border=\"1\" class=\"dataframe\">\n",
              "  <thead>\n",
              "    <tr style=\"text-align: right;\">\n",
              "      <th>K-Means Cluster</th>\n",
              "      <th>1</th>\n",
              "      <th>2</th>\n",
              "      <th>3</th>\n",
              "      <th>4</th>\n",
              "      <th>5</th>\n",
              "      <th>6</th>\n",
              "      <th>7</th>\n",
              "    </tr>\n",
              "    <tr>\n",
              "      <th>HC Cluster</th>\n",
              "      <th></th>\n",
              "      <th></th>\n",
              "      <th></th>\n",
              "      <th></th>\n",
              "      <th></th>\n",
              "      <th></th>\n",
              "      <th></th>\n",
              "    </tr>\n",
              "  </thead>\n",
              "  <tbody>\n",
              "    <tr>\n",
              "      <th>1</th>\n",
              "      <td>0</td>\n",
              "      <td>0</td>\n",
              "      <td>0</td>\n",
              "      <td>0</td>\n",
              "      <td>0</td>\n",
              "      <td>324</td>\n",
              "      <td>0</td>\n",
              "    </tr>\n",
              "    <tr>\n",
              "      <th>2</th>\n",
              "      <td>91</td>\n",
              "      <td>4</td>\n",
              "      <td>75</td>\n",
              "      <td>96</td>\n",
              "      <td>0</td>\n",
              "      <td>0</td>\n",
              "      <td>1495</td>\n",
              "    </tr>\n",
              "    <tr>\n",
              "      <th>3</th>\n",
              "      <td>248</td>\n",
              "      <td>94</td>\n",
              "      <td>3</td>\n",
              "      <td>104</td>\n",
              "      <td>8</td>\n",
              "      <td>1</td>\n",
              "      <td>345</td>\n",
              "    </tr>\n",
              "    <tr>\n",
              "      <th>4</th>\n",
              "      <td>0</td>\n",
              "      <td>54</td>\n",
              "      <td>0</td>\n",
              "      <td>0</td>\n",
              "      <td>1</td>\n",
              "      <td>0</td>\n",
              "      <td>0</td>\n",
              "    </tr>\n",
              "    <tr>\n",
              "      <th>5</th>\n",
              "      <td>9</td>\n",
              "      <td>0</td>\n",
              "      <td>0</td>\n",
              "      <td>4</td>\n",
              "      <td>36</td>\n",
              "      <td>1</td>\n",
              "      <td>0</td>\n",
              "    </tr>\n",
              "    <tr>\n",
              "      <th>6</th>\n",
              "      <td>14</td>\n",
              "      <td>0</td>\n",
              "      <td>174</td>\n",
              "      <td>60</td>\n",
              "      <td>1</td>\n",
              "      <td>0</td>\n",
              "      <td>21</td>\n",
              "    </tr>\n",
              "    <tr>\n",
              "      <th>7</th>\n",
              "      <td>2</td>\n",
              "      <td>6</td>\n",
              "      <td>3</td>\n",
              "      <td>119</td>\n",
              "      <td>0</td>\n",
              "      <td>4</td>\n",
              "      <td>33</td>\n",
              "    </tr>\n",
              "  </tbody>\n",
              "</table>\n",
              "</div>"
            ],
            "text/plain": [
              "K-Means Cluster    1   2    3    4   5    6     7\n",
              "HC Cluster                                       \n",
              "1                  0   0    0    0   0  324     0\n",
              "2                 91   4   75   96   0    0  1495\n",
              "3                248  94    3  104   8    1   345\n",
              "4                  0  54    0    0   1    0     0\n",
              "5                  9   0    0    4  36    1     0\n",
              "6                 14   0  174   60   1    0    21\n",
              "7                  2   6    3  119   0    4    33"
            ]
          },
          "execution_count": 39,
          "metadata": {},
          "output_type": "execute_result"
        }
      ],
      "source": [
        "# Crosstab\n",
        "import pandas as pd\n",
        "# Create a DataFrame with the cluster assignments for each method\n",
        "df = pd.DataFrame({ 'HC Cluster': hc_clusters, 'K-Means Cluster': df_clusters2['kmeans_Cluster']})\n",
        "# Create the cross-tabulation table\n",
        "pd.crosstab(df['HC Cluster'], df['K-Means Cluster'])"
      ]
    },
    {
      "cell_type": "markdown",
      "id": "e546895c",
      "metadata": {
        "id": "e546895c"
      },
      "source": [
        "**Q) Which Hierarchical Cluster best corresponds to K-Means Cluster 2?**\n",
        "\n",
        "Hierarchial Cluster 3 correspond to K-Means cluster 2 because they share the highest number of data points 94"
      ]
    },
    {
      "cell_type": "markdown",
      "id": "5de49427",
      "metadata": {
        "id": "5de49427"
      },
      "source": [
        "**Q) Which Hierarchical Cluster best corresponds to K-Means Cluster 3?**\n",
        "\n",
        "Hierarchial Cluster 6 correspond to K-Means cluster 2 because they share the highest number of data points 174"
      ]
    },
    {
      "cell_type": "code",
      "execution_count": null,
      "id": "adfc7501",
      "metadata": {
        "id": "adfc7501"
      },
      "outputs": [],
      "source": []
    }
  ],
  "metadata": {
    "kernelspec": {
      "display_name": "Python 3 (ipykernel)",
      "language": "python",
      "name": "python3"
    },
    "language_info": {
      "codemirror_mode": {
        "name": "ipython",
        "version": 3
      },
      "file_extension": ".py",
      "mimetype": "text/x-python",
      "name": "python",
      "nbconvert_exporter": "python",
      "pygments_lexer": "ipython3",
      "version": "3.11.4"
    },
    "colab": {
      "provenance": []
    }
  },
  "nbformat": 4,
  "nbformat_minor": 5
}